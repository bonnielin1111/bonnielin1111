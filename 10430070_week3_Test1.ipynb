{
 "cells": [
  {
   "cell_type": "markdown",
   "metadata": {},
   "source": [
    "$$\n",
    "\\begin{align*} \n",
    "I  &=\\int_{0}^{1} x^2 dx \\\\\n",
    "   &=\\tfrac{1}{3} x^3\n",
    "\\Big|_0^1=\\tfrac{1}{3} 1^3 -0=\\tfrac{1}{3}\n",
    "\\end{align*}\n",
    "$$"
   ]
  },
  {
   "cell_type": "code",
   "execution_count": 1,
   "metadata": {},
   "outputs": [
    {
     "data": {
      "text/plain": [
       "(0.33333333333333337, 3.700743415417189e-15)"
      ]
     },
     "execution_count": 1,
     "metadata": {},
     "output_type": "execute_result"
    }
   ],
   "source": [
    "from scipy.integrate import quad\n",
    "def integrand(x):\n",
    "    return x**2\n",
    "I = quad(integrand, 0, 1)\n",
    "I"
   ]
  },
  {
   "cell_type": "code",
   "execution_count": 11,
   "metadata": {},
   "outputs": [
    {
     "data": {
      "image/png": "[encoded data removed]",
      "text/plain": [
       "<matplotlib.figure.Figure at 0x7f7e84e68ef0>"
      ]
     },
     "metadata": {},
     "output_type": "display_data"
    }
   ],
   "source": [
    "import numpy as np\n",
    "import matplotlib.pyplot as plt\n",
    "width=0.001\n",
    "# Create data\n",
    "x=np.arange(0,1,width) # interval from 0 to 6 with unit 0.1\n",
    "y=x**2\n",
    "# plot graph\n",
    "plt.plot(x,y)\n",
    "plt.xlim(0,1)  # set the xlim to left, right\n",
    "plt.ylim(0,1)  # set the xlim to left, right\n",
    "plt.show()\n"
   ]
  },
  {
   "cell_type": "code",
   "execution_count": 8,
   "metadata": {},
   "outputs": [
    {
     "data": {
      "text/plain": [
       "([<matplotlib.axis.XTick at 0x7f7e84ebe898>,\n",
       "  <matplotlib.axis.XTick at 0x7f7e84f0cf98>,\n",
       "  <matplotlib.axis.XTick at 0x7f7e84f2b5f8>,\n",
       "  <matplotlib.axis.XTick at 0x7f7e84dbbeb8>,\n",
       "  <matplotlib.axis.XTick at 0x7f7e84dc3550>,\n",
       "  <matplotlib.axis.XTick at 0x7f7e84dc3be0>,\n",
       "  <matplotlib.axis.XTick at 0x7f7e84dc72b0>,\n",
       "  <matplotlib.axis.XTick at 0x7f7e84f2bb00>,\n",
       "  <matplotlib.axis.XTick at 0x7f7e84dc76a0>,\n",
       "  <matplotlib.axis.XTick at 0x7f7e84dc7d30>,\n",
       "  <matplotlib.axis.XTick at 0x7f7e84dce400>,\n",
       "  <matplotlib.axis.XTick at 0x7f7e84dcea90>,\n",
       "  <matplotlib.axis.XTick at 0x7f7e84dd4160>,\n",
       "  <matplotlib.axis.XTick at 0x7f7e84dd47f0>,\n",
       "  <matplotlib.axis.XTick at 0x7f7e84dd4e80>,\n",
       "  <matplotlib.axis.XTick at 0x7f7e84ddb550>,\n",
       "  <matplotlib.axis.XTick at 0x7f7e84ddbbe0>,\n",
       "  <matplotlib.axis.XTick at 0x7f7e84de22b0>,\n",
       "  <matplotlib.axis.XTick at 0x7f7e84de2940>,\n",
       "  <matplotlib.axis.XTick at 0x7f7e84de2fd0>,\n",
       "  <matplotlib.axis.XTick at 0x7f7e84de86a0>,\n",
       "  <matplotlib.axis.XTick at 0x7f7e84de8d30>,\n",
       "  <matplotlib.axis.XTick at 0x7f7e84dee400>,\n",
       "  <matplotlib.axis.XTick at 0x7f7e84deea90>,\n",
       "  <matplotlib.axis.XTick at 0x7f7e84df5160>,\n",
       "  <matplotlib.axis.XTick at 0x7f7e84df57f0>,\n",
       "  <matplotlib.axis.XTick at 0x7f7e84df5e80>,\n",
       "  <matplotlib.axis.XTick at 0x7f7e84d7b550>,\n",
       "  <matplotlib.axis.XTick at 0x7f7e84d7bbe0>,\n",
       "  <matplotlib.axis.XTick at 0x7f7e84d822b0>,\n",
       "  <matplotlib.axis.XTick at 0x7f7e84d82940>,\n",
       "  <matplotlib.axis.XTick at 0x7f7e84d82fd0>,\n",
       "  <matplotlib.axis.XTick at 0x7f7e84d886a0>,\n",
       "  <matplotlib.axis.XTick at 0x7f7e84d88d30>,\n",
       "  <matplotlib.axis.XTick at 0x7f7e84d8e400>,\n",
       "  <matplotlib.axis.XTick at 0x7f7e84d8ea90>,\n",
       "  <matplotlib.axis.XTick at 0x7f7e84d93160>,\n",
       "  <matplotlib.axis.XTick at 0x7f7e84d937f0>,\n",
       "  <matplotlib.axis.XTick at 0x7f7e84d93e80>,\n",
       "  <matplotlib.axis.XTick at 0x7f7e84d9b550>,\n",
       "  <matplotlib.axis.XTick at 0x7f7e84d9bbe0>,\n",
       "  <matplotlib.axis.XTick at 0x7f7e84da32b0>,\n",
       "  <matplotlib.axis.XTick at 0x7f7e84da3940>,\n",
       "  <matplotlib.axis.XTick at 0x7f7e84da3fd0>,\n",
       "  <matplotlib.axis.XTick at 0x7f7e84daa6a0>,\n",
       "  <matplotlib.axis.XTick at 0x7f7e84daad30>,\n",
       "  <matplotlib.axis.XTick at 0x7f7e84db0400>,\n",
       "  <matplotlib.axis.XTick at 0x7f7e84db0a90>,\n",
       "  <matplotlib.axis.XTick at 0x7f7e84db6160>,\n",
       "  <matplotlib.axis.XTick at 0x7f7e84db67f0>,\n",
       "  <matplotlib.axis.XTick at 0x7f7e84db6e80>,\n",
       "  <matplotlib.axis.XTick at 0x7f7e84d3c550>,\n",
       "  <matplotlib.axis.XTick at 0x7f7e84d3cbe0>,\n",
       "  <matplotlib.axis.XTick at 0x7f7e84d422b0>,\n",
       "  <matplotlib.axis.XTick at 0x7f7e84d42940>,\n",
       "  <matplotlib.axis.XTick at 0x7f7e84d42fd0>,\n",
       "  <matplotlib.axis.XTick at 0x7f7e84d496a0>,\n",
       "  <matplotlib.axis.XTick at 0x7f7e84d49d30>,\n",
       "  <matplotlib.axis.XTick at 0x7f7e84d4f400>,\n",
       "  <matplotlib.axis.XTick at 0x7f7e84d4fa90>,\n",
       "  <matplotlib.axis.XTick at 0x7f7e84d55160>,\n",
       "  <matplotlib.axis.XTick at 0x7f7e84d557f0>,\n",
       "  <matplotlib.axis.XTick at 0x7f7e84d55e80>,\n",
       "  <matplotlib.axis.XTick at 0x7f7e84d5b550>,\n",
       "  <matplotlib.axis.XTick at 0x7f7e84d5bbe0>,\n",
       "  <matplotlib.axis.XTick at 0x7f7e84d622b0>,\n",
       "  <matplotlib.axis.XTick at 0x7f7e84d62940>,\n",
       "  <matplotlib.axis.XTick at 0x7f7e84d62fd0>,\n",
       "  <matplotlib.axis.XTick at 0x7f7e84d696a0>,\n",
       "  <matplotlib.axis.XTick at 0x7f7e84d69d30>,\n",
       "  <matplotlib.axis.XTick at 0x7f7e84d70400>,\n",
       "  <matplotlib.axis.XTick at 0x7f7e84d70a90>,\n",
       "  <matplotlib.axis.XTick at 0x7f7e84d77160>,\n",
       "  <matplotlib.axis.XTick at 0x7f7e84d777f0>,\n",
       "  <matplotlib.axis.XTick at 0x7f7e84d77e80>,\n",
       "  <matplotlib.axis.XTick at 0x7f7e84cfd550>,\n",
       "  <matplotlib.axis.XTick at 0x7f7e84cfdbe0>,\n",
       "  <matplotlib.axis.XTick at 0x7f7e84d042b0>,\n",
       "  <matplotlib.axis.XTick at 0x7f7e84d04940>,\n",
       "  <matplotlib.axis.XTick at 0x7f7e84d04fd0>,\n",
       "  <matplotlib.axis.XTick at 0x7f7e84d096a0>,\n",
       "  <matplotlib.axis.XTick at 0x7f7e84d09d30>,\n",
       "  <matplotlib.axis.XTick at 0x7f7e84d10400>,\n",
       "  <matplotlib.axis.XTick at 0x7f7e84d10a90>,\n",
       "  <matplotlib.axis.XTick at 0x7f7e84d15160>,\n",
       "  <matplotlib.axis.XTick at 0x7f7e84d157f0>,\n",
       "  <matplotlib.axis.XTick at 0x7f7e84d15e80>,\n",
       "  <matplotlib.axis.XTick at 0x7f7e84d1d550>,\n",
       "  <matplotlib.axis.XTick at 0x7f7e84d1dbe0>,\n",
       "  <matplotlib.axis.XTick at 0x7f7e84d232b0>,\n",
       "  <matplotlib.axis.XTick at 0x7f7e84d23940>,\n",
       "  <matplotlib.axis.XTick at 0x7f7e84d23fd0>,\n",
       "  <matplotlib.axis.XTick at 0x7f7e84d2a6a0>,\n",
       "  <matplotlib.axis.XTick at 0x7f7e84d2ad30>,\n",
       "  <matplotlib.axis.XTick at 0x7f7e84d31400>,\n",
       "  <matplotlib.axis.XTick at 0x7f7e84d31a90>,\n",
       "  <matplotlib.axis.XTick at 0x7f7e84d36160>,\n",
       "  <matplotlib.axis.XTick at 0x7f7e84d367f0>,\n",
       "  <matplotlib.axis.XTick at 0x7f7e84d36e80>,\n",
       "  <matplotlib.axis.XTick at 0x7f7e84cbd550>],\n",
       " <a list of 100 Text xticklabel objects>)"
      ]
     },
     "execution_count": 8,
     "metadata": {},
     "output_type": "execute_result"
    },
    {
     "data": {
      "image/png": "[encoded data removed]",
      "text/plain": [
       "<matplotlib.figure.Figure at 0x7f7e84f660b8>"
      ]
     },
     "metadata": {},
     "output_type": "display_data"
    }
   ],
   "source": [
    "objects =  y\n",
    "y_pos = np.arange(len(objects))\n",
    "plt.bar(y_pos, y, align='center', width=1 , alpha=0.5)\n",
    "plt.plot(y_pos, y)\n",
    "plt.xticks(y_pos, objects)"
   ]
  },
  {
   "cell_type": "code",
   "execution_count": 12,
   "metadata": {},
   "outputs": [
    {
     "data": {
      "text/plain": [
       "0.33283349999999995"
      ]
     },
     "execution_count": 12,
     "metadata": {},
     "output_type": "execute_result"
    }
   ],
   "source": [
    "cintegral2 = width*sum(y)\n",
    "cintegral2"
   ]
  },
  {
   "cell_type": "code",
   "execution_count": 13,
   "metadata": {},
   "outputs": [
    {
     "data": {
      "text/plain": [
       "0.000499833333333366"
      ]
     },
     "execution_count": 13,
     "metadata": {},
     "output_type": "execute_result"
    }
   ],
   "source": [
    "error = 1/3-cintegral2\n",
    "error"
   ]
  },
  {
   "cell_type": "code",
   "execution_count": null,
   "metadata": {},
   "outputs": [],
   "source": []
  }
 ],
 "metadata": {
  "kernelspec": {
   "display_name": "Python 3",
   "language": "python",
   "name": "python3"
  },
  "language_info": {
   "codemirror_mode": {
    "name": "ipython",
    "version": 3
   },
   "file_extension": ".py",
   "mimetype": "text/x-python",
   "name": "python",
   "nbconvert_exporter": "python",
   "pygments_lexer": "ipython3",
   "version": "3.6.6"
  }
 },
 "nbformat": 4,
 "nbformat_minor": 2
}
