{
 "cells": [
  {
   "cell_type": "code",
   "execution_count": 1,
   "metadata": {},
   "outputs": [],
   "source": [
    "import numpy as np\n",
    "from numpy.linalg import inv\n",
    "a = np.array([[3., 2., -1.], [2., -2., 4.], [-1., 0.5, -1.]])"
   ]
  },
  {
   "cell_type": "code",
   "execution_count": 2,
   "metadata": {},
   "outputs": [
    {
     "name": "stdout",
     "output_type": "stream",
     "text": [
      "[[ 3.   2.  -1. ]\n",
      " [ 2.  -2.   4. ]\n",
      " [-1.   0.5 -1. ]]\n"
     ]
    }
   ],
   "source": [
    "print(a)"
   ]
  },
  {
   "cell_type": "code",
   "execution_count": 3,
   "metadata": {},
   "outputs": [
    {
     "name": "stdout",
     "output_type": "stream",
     "text": [
      "[[ 1.48029737e-16 -5.00000000e-01 -2.00000000e+00]\n",
      " [ 6.66666667e-01  1.33333333e+00  4.66666667e+00]\n",
      " [ 3.33333333e-01  1.16666667e+00  3.33333333e+00]]\n"
     ]
    }
   ],
   "source": [
    "ainv = inv(a)\n",
    "print (ainv)"
   ]
  },
  {
   "cell_type": "code",
   "execution_count": 4,
   "metadata": {},
   "outputs": [],
   "source": [
    "b = np.array([1,-2,0])"
   ]
  },
  {
   "cell_type": "code",
   "execution_count": 5,
   "metadata": {},
   "outputs": [
    {
     "name": "stdout",
     "output_type": "stream",
     "text": [
      "ainv*b= [ 1. -2. -2.]\n"
     ]
    }
   ],
   "source": [
    "X = np.dot(ainv,b)\n",
    "print ('ainv*b=', X)"
   ]
  },
  {
   "cell_type": "code",
   "execution_count": 6,
   "metadata": {},
   "outputs": [
    {
     "name": "stdout",
     "output_type": "stream",
     "text": [
      "asolve*b= [ 1. -2. -2.]\n"
     ]
    }
   ],
   "source": [
    "asolve = np.linalg.solve(a,b)\n",
    "print('asolve*b=', asolve)"
   ]
  }
 ],
 "metadata": {
  "kernelspec": {
   "display_name": "Python 3",
   "language": "python",
   "name": "python3"
  },
  "language_info": {
   "codemirror_mode": {
    "name": "ipython",
    "version": 3
   },
   "file_extension": ".py",
   "mimetype": "text/x-python",
   "name": "python",
   "nbconvert_exporter": "python",
   "pygments_lexer": "ipython3",
   "version": "3.6.7"
  }
 },
 "nbformat": 4,
 "nbformat_minor": 2
}
